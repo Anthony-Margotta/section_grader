{
 "cells": [
  {
   "cell_type": "code",
   "execution_count": 1,
   "metadata": {},
   "outputs": [],
   "source": [
    "import random"
   ]
  },
  {
   "cell_type": "code",
   "execution_count": 18,
   "metadata": {},
   "outputs": [],
   "source": [
    "class Student:\n",
    "    \"\"\"Student class\"\"\"\n",
    "    \n",
    "    def __init__(self, name, section, motivation):\n",
    "        self.name = name\n",
    "        self.section = section\n",
    "        self.motivation = motivation\n",
    "    \n",
    "    def attempt(week):\n",
    "        # simulate an attempt at the assignment for the given week\n",
    "        week\n",
    "\n",
    "class Course:\n",
    "    \"\"\"Course class\"\"\"\n",
    "\n",
    "    def __init__(self, sections, length):\n",
    "        self.sections = sections\n",
    "        self.length = length\n",
    "        self.students = []\n",
    "        \n",
    "        # Create students\n",
    "        for section in sections:\n",
    "            name = '' #'Randomly generate name'\n",
    "            motivation = None # Randomly generate motivation'\n",
    "            students.append(Student(name, section.label, motivation))\n",
    "\n",
    "    def run():\n",
    "        \"simulates running a semester of the course\""
   ]
  }
 ],
 "metadata": {
  "kernelspec": {
   "display_name": "Python 3",
   "language": "python",
   "name": "python3"
  },
  "language_info": {
   "codemirror_mode": {
    "name": "ipython",
    "version": 3
   },
   "file_extension": ".py",
   "mimetype": "text/x-python",
   "name": "python",
   "nbconvert_exporter": "python",
   "pygments_lexer": "ipython3",
   "version": "3.8.3"
  }
 },
 "nbformat": 4,
 "nbformat_minor": 4
}
