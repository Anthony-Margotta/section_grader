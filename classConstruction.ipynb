{
 "cells": [
  {
   "cell_type": "code",
   "execution_count": 4,
   "metadata": {},
   "outputs": [],
   "source": [
    "import random\n",
    "import datetime\n",
    "import csv"
   ]
  },
  {
   "cell_type": "code",
   "execution_count": 17,
   "metadata": {},
   "outputs": [],
   "source": [
    "class Student:\n",
    "    \"\"\"Student class\"\"\"\n",
    "    \n",
    "    def __init__(self, name, section, motivation, length):\n",
    "        self.name = name\n",
    "        self.section = section\n",
    "        self.motivation = motivation\n",
    "        self.successes = [0] * length\n",
    "        self.section_start = datetime.datetime.strptime(section[\"start\"],\"%Y-%m-%d-%H\")\n",
    "    \n",
    "    def attempt(self, week, gradebook):\n",
    "        due = self.section_start + datetime.timedelta(weeks=week)\n",
    "        effort = random.randrange(10) + self.motivation\n",
    "        if (effort > 10):\n",
    "            # due date - 3 days +- 12hourrange\n",
    "            attempt_date = pick_time(due, -72, 12)\n",
    "        elif (effort > 5):\n",
    "            # due date - 12hourrange\n",
    "            attempt_date = pick_time(due, -12, 12)\n",
    "        elif (effort > 2):\n",
    "            # due date + 6hourrange\n",
    "            attempt_date = pick_time(due, -3, 3)\n",
    "        else:\n",
    "            # due date + 6days +- 24 hourrange\n",
    "            attempt_date = pick_time(due, 72, 72)\n",
    "        \n",
    "        # make attempt if there's not previous sucesses, maybe make attempt if there are\n",
    "        if (random.random()<(1 - 0.9*self.successes[week])):\n",
    "            # check if attempt is right (70% chance each time)\n",
    "            if (random.random() < 0.7):\n",
    "                self.successes[week] = 1\n",
    "                correct = True\n",
    "            else:\n",
    "                correct = False\n",
    "                \n",
    "            gradebook.append(\n",
    "                (self.name,\n",
    "                 self.section.get(\"label\"),\n",
    "                 attempt_date.strftime(\"%Y-%m-%d-%H\"),\n",
    "                 correct,\n",
    "                 week+1)\n",
    "            )\n",
    "            \n",
    "            self.attempt(week, gradebook)\n",
    "\n",
    "            \n",
    "\n",
    "class Course:\n",
    "    \"\"\"Course class\"\"\"\n",
    "\n",
    "    def __init__(self, length, sections = 'deadlines.csv'):\n",
    "        self.length = length\n",
    "        self.students = []\n",
    "        self.submissions = None\n",
    "        \n",
    "        if type(sections) == str:\n",
    "            with open('deadlines.csv') as deadline_file:\n",
    "                self.sections = list(csv.DictReader(deadline_file))\n",
    "        else:\n",
    "            self.sections=sections\n",
    "            \n",
    "\n",
    "        # Create students\n",
    "        for section in self.sections:\n",
    "            for i in range(int(section.get(\"size\"))):\n",
    "                name = str(random.randrange(1000000,9999999))\n",
    "                motivation = random.randint(1,3)\n",
    "                self.students.append(\n",
    "                    Student(name, section, motivation, self.length)\n",
    "                )\n",
    "\n",
    "    def run(self):\n",
    "        \"simulates running a semester of the course\"\n",
    "        submissions = []\n",
    "        for student in self.students:\n",
    "            for week in range(0,self.length):\n",
    "                student.attempt(week = week, gradebook = submissions)\n",
    "\n",
    "        self.submissions = submissions\n",
    "    \n",
    "    def write_files(self):\n",
    "        fieldnames = ['UID', 'Section','Submission date', 'Correct', 'week']\n",
    "        for w in range(1,self.length+1):\n",
    "            file_name = 'submissions_week%i' % w\n",
    "            with open(file_name, 'w', newline='') as csvfile:\n",
    "                writer = csv.writer(csvfile)\n",
    "                writer.writerow(fieldnames)\n",
    "                # write file for each week\n",
    "                for r in range(len(self.submissions)):\n",
    "                    # check if row was for week w (current loop)\n",
    "                    if self.submissions[r][-1] == w:\n",
    "                        writer.writerow(self.submissions[r])\n",
    "\n",
    "def pick_time(target, hours_offset, hours_spread):\n",
    "        dhours = hours_offset + random.uniform(-hours_spread,hours_spread)\n",
    "        delta = datetime.timedelta(hours=dhours)\n",
    "        return target + delta"
   ]
  },
  {
   "cell_type": "markdown",
   "metadata": {},
   "source": [
    "## Intended Flow \n",
    "\n",
    "\n",
    "```python\n",
    "course = Course(sections, 16)\n",
    "submissions = course.run()\n",
    "\n",
    "gradebook = grade(submissions)\n",
    "```\n",
    "\n",
    "### `sections`\n",
    "`sections` should be a `list` of `dict`s that are all of the form:\n",
    "```python\n",
    "AD1 = {\n",
    "    \"label\":\"AD1\",\n",
    "    \"size\": 12,\n",
    "    \"start\": \"2019-01-14-12\"\n",
    "}\n",
    "```"
   ]
  },
  {
   "cell_type": "code",
   "execution_count": 18,
   "metadata": {},
   "outputs": [
    {
     "name": "stdout",
     "output_type": "stream",
     "text": [
      "[{'section': 'AD1', 'start': '2019-01-14-12', 'size': '15'}, {'section': 'AD2', 'start': '2019-01-14-13', 'size': '12'}, {'section': 'AD3', 'start': '2019-01-14-14', 'size': '23'}, {'section': 'AD4', 'start': '2019-01-14-15', 'size': '17'}, {'section': 'AD5', 'start': '2019-01-15-08', 'size': '20'}, {'section': 'AD7', 'start': '2019-01-15-09', 'size': '16'}, {'section': 'AD6', 'start': '2019-01-15-10', 'size': '21'}, {'section': 'ADA', 'start': '2019-01-15-11', 'size': '16'}]\n"
     ]
    }
   ],
   "source": [
    "AD1 = {\n",
    "    \"label\":\"AD1\",\n",
    "    \"size\": 13,\n",
    "    \"start\": \"2019-01-14-12\"\n",
    "}\n",
    "\n",
    "AD2 = {\n",
    "    \"label\":\"AD2\",\n",
    "    \"size\": 14,\n",
    "    \"start\": \"2019-01-14-13\"\n",
    "}\n",
    "\n",
    "AD3 = {\n",
    "    \"label\":\"AD3\",\n",
    "    \"size\": 11,\n",
    "    \"start\": \"2019-01-14-14\"\n",
    "}\n",
    "\n",
    "AD4 = {\n",
    "    \"label\":\"AD4\",\n",
    "    \"size\": 12,\n",
    "    \"start\": \"2019-01-14-15\"\n",
    "}\n",
    "\n",
    "AD5 = {\n",
    "    \"label\":\"AD5\",\n",
    "    \"size\": 23,\n",
    "    \"start\": \"2019-01-15-08\"\n",
    "}\n",
    "\n",
    "AD6 = {\n",
    "    \"label\":\"AD6\",\n",
    "    \"size\": 17,\n",
    "    \"start\": \"2019-01-15-09\"\n",
    "}\n",
    "\n",
    "AD7 = {\n",
    "    \"label\":\"AD7\",\n",
    "    \"size\": 16,\n",
    "    \"start\": \"2019-01-15-12\"\n",
    "}\n",
    "\n",
    "ADA = {\n",
    "    \"label\":\"ADA\",\n",
    "    \"size\": 16,\n",
    "    \"start\": \"2019-01-15-13\"\n",
    "}\n",
    "\n",
    "test_course = Course(length=3)"
   ]
  },
  {
   "cell_type": "code",
   "execution_count": 19,
   "metadata": {},
   "outputs": [],
   "source": [
    "random.seed(0)\n",
    "test_course.run()"
   ]
  },
  {
   "cell_type": "code",
   "execution_count": 20,
   "metadata": {},
   "outputs": [
    {
     "data": {
      "text/plain": [
       "659"
      ]
     },
     "execution_count": 20,
     "metadata": {},
     "output_type": "execute_result"
    }
   ],
   "source": [
    "len(test_course.submissions)"
   ]
  },
  {
   "cell_type": "code",
   "execution_count": null,
   "metadata": {},
   "outputs": [],
   "source": [
    "test_course.write_files()"
   ]
  }
 ],
 "metadata": {
  "kernelspec": {
   "display_name": "Python 3",
   "language": "python",
   "name": "python3"
  },
  "language_info": {
   "codemirror_mode": {
    "name": "ipython",
    "version": 3
   },
   "file_extension": ".py",
   "mimetype": "text/x-python",
   "name": "python",
   "nbconvert_exporter": "python",
   "pygments_lexer": "ipython3",
   "version": "3.8.5"
  }
 },
 "nbformat": 4,
 "nbformat_minor": 4
}
