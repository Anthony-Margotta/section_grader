{
 "cells": [
  {
   "cell_type": "code",
   "execution_count": 1,
   "metadata": {},
   "outputs": [],
   "source": [
    "import random\n",
    "import datetime"
   ]
  },
  {
   "cell_type": "code",
   "execution_count": 19,
   "metadata": {},
   "outputs": [],
   "source": [
    "class Student:\n",
    "    \"\"\"Student class\"\"\"\n",
    "    \n",
    "    def __init__(self, name, section, motivation):\n",
    "        self.name = name\n",
    "        self.section = section\n",
    "        self.motivation = motivation\n",
    "        self.successes = []\n",
    "    \n",
    "    def attempt(week):\n",
    "        effort = random.randrage(10) + self.motivation\n",
    "        if (effort > 10):\n",
    "            # due date - 3 days +- 12hourrange\n",
    "            attempt_date = pick_date(due, -72, 12)\n",
    "        elif (effort > 5):\n",
    "            # due date - 12hourrange\n",
    "            attempt_date = pick_date(due, -12, 12)\n",
    "        elif (effort > 2):\n",
    "            # due date + 6hourrange\n",
    "            attempt_date = pick_date(du, -3, 3)\n",
    "        else:\n",
    "            # due date + 6days +- 24 hourrange\n",
    "            attempt_date = pick_date(due, 72, 72) \n",
    "            \n",
    "\n",
    "class Course:\n",
    "    \"\"\"Course class\"\"\"\n",
    "\n",
    "    def __init__(self, sections, length):\n",
    "        self.sections = sections\n",
    "        self.length = length\n",
    "        self.students = []\n",
    "        \n",
    "        # Create students\n",
    "        for section in sections:\n",
    "            for i in range(section.get(\"size\")):\n",
    "                name = str(random.randrange(1000000,9999999))\n",
    "                motivation = random.randrange(3)\n",
    "                self.students.append(\n",
    "                    Student(name, section.get(\"label\"), motivation)\n",
    "                )\n",
    "\n",
    "    def run(self, file = True):\n",
    "        \"simulates running a semester of the course\"\n",
    "        # create submission table\n",
    "        # each student makes Course.length attempts on an assignment\n",
    "        # output submission table as file and return its path"
   ]
  },
  {
   "cell_type": "code",
   "execution_count": null,
   "metadata": {},
   "outputs": [],
   "source": []
  },
  {
   "cell_type": "code",
   "execution_count": 17,
   "metadata": {},
   "outputs": [],
   "source": [
    "def pick_time(target, hours_offset, hours_spread):\n",
    "        dhours = offset + random.uniform(-hours_spread,hours_spread)\n",
    "        delta = datetime.timedelta(hours=dhours)\n",
    "        return target + delta"
   ]
  },
  {
   "cell_type": "markdown",
   "metadata": {},
   "source": [
    "## Intended Flow \n",
    "\n",
    "\n",
    "```python\n",
    "course = Course(sections, 16)\n",
    "submissions = course.run()\n",
    "\n",
    "gradebook = grade(submissions)\n",
    "```\n",
    "\n",
    "### `sections`\n",
    "`sections` should be a `list` of `dict`s that are all of the form:\n",
    "```python\n",
    "AD1 = {\n",
    "    \"label\":\"AD1\",\n",
    "    \"size\": 12,\n",
    "    \"start\": \"2019-01-14-12\"\n",
    "}\n",
    "```"
   ]
  },
  {
   "cell_type": "code",
   "execution_count": 19,
   "metadata": {},
   "outputs": [
    {
     "data": {
      "text/plain": [
       "'8140190'"
      ]
     },
     "execution_count": 19,
     "metadata": {},
     "output_type": "execute_result"
    }
   ],
   "source": [
    "str(random.randrange(1000000,9999999))"
   ]
  },
  {
   "cell_type": "code",
   "execution_count": 42,
   "metadata": {},
   "outputs": [],
   "source": [
    "AD1 = {\n",
    "    \"label\":\"AD1\",\n",
    "    \"size\": 3,\n",
    "    \"start\": \"2019-01-14-12\"\n",
    "}\n",
    "\n",
    "AD2 = {\n",
    "    \"label\":\"AD2\",\n",
    "    \"size\": 4,\n",
    "    \"start\": \"2019-01-14-13\"\n",
    "}\n",
    "\n",
    "test_course = Course([AD1, AD2], 3)"
   ]
  },
  {
   "cell_type": "code",
   "execution_count": 45,
   "metadata": {},
   "outputs": [
    {
     "name": "stdout",
     "output_type": "stream",
     "text": [
      "AD1\n",
      "AD1\n",
      "AD1\n",
      "AD2\n",
      "AD2\n",
      "AD2\n",
      "AD2\n"
     ]
    }
   ],
   "source": [
    "[print(s.section) for s in test_course.students];"
   ]
  },
  {
   "cell_type": "code",
   "execution_count": 2,
   "metadata": {},
   "outputs": [],
   "source": [
    "d = datetime.timedelta(hours=.5)"
   ]
  },
  {
   "cell_type": "code",
   "execution_count": 10,
   "metadata": {},
   "outputs": [
    {
     "data": {
      "text/plain": [
       "1800"
      ]
     },
     "execution_count": 10,
     "metadata": {},
     "output_type": "execute_result"
    }
   ],
   "source": [
    "d.seconds"
   ]
  },
  {
   "cell_type": "code",
   "execution_count": 16,
   "metadata": {},
   "outputs": [
    {
     "data": {
      "text/plain": [
       "-7.322805492555837"
      ]
     },
     "execution_count": 16,
     "metadata": {},
     "output_type": "execute_result"
    }
   ],
   "source": [
    "random.uniform(12,-12)"
   ]
  },
  {
   "cell_type": "code",
   "execution_count": null,
   "metadata": {},
   "outputs": [],
   "source": []
  }
 ],
 "metadata": {
  "kernelspec": {
   "display_name": "Python 3",
   "language": "python",
   "name": "python3"
  },
  "language_info": {
   "codemirror_mode": {
    "name": "ipython",
    "version": 3
   },
   "file_extension": ".py",
   "mimetype": "text/x-python",
   "name": "python",
   "nbconvert_exporter": "python",
   "pygments_lexer": "ipython3",
   "version": "3.8.3"
  }
 },
 "nbformat": 4,
 "nbformat_minor": 4
}
