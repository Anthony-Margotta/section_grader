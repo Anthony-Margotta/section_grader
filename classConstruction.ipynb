{
 "cells": [
  {
   "cell_type": "code",
   "execution_count": null,
   "metadata": {},
   "outputs": [],
   "source": [
    "import random\n",
    "import datetime"
   ]
  },
  {
   "cell_type": "code",
   "execution_count": null,
   "metadata": {},
   "outputs": [],
   "source": [
    "class Student:\n",
    "    \"\"\"Student class\"\"\"\n",
    "    \n",
    "    def __init__(self, name, section, motivation, length):\n",
    "        self.name = name\n",
    "        self.section = section\n",
    "        self.motivation = motivation\n",
    "        self.successes = [0] * length\n",
    "        self.section_start = datetime.datetime.strptime(section[\"start\"],\"%Y-%m-%d-%H\")\n",
    "    \n",
    "    def attempt(self, week):\n",
    "        due = self.section_start + datetime.timedelta(weeks=week)\n",
    "        effort = random.randrange(10) + self.motivation\n",
    "        if (effort > 10):\n",
    "            # due date - 3 days +- 12hourrange\n",
    "            attempt_date = pick_time(due, -72, 12)\n",
    "        elif (effort > 5):\n",
    "            # due date - 12hourrange\n",
    "            attempt_date = pick_time(due, -12, 12)\n",
    "        elif (effort > 2):\n",
    "            # due date + 6hourrange\n",
    "            attempt_date = pick_time(due, -3, 3)\n",
    "        else:\n",
    "            # due date + 6days +- 24 hourrange\n",
    "            attempt_date = pick_time(due, 72, 72)\n",
    "        \n",
    "        # make attempt if there's not previous sucesses, maybe make attempt if there are\n",
    "        if (random.random()<(1 - 0.9*self.successes[week])):\n",
    "            # check if attempt is right (70% chance each time)\n",
    "            if (random.random() < 0.7):\n",
    "                self.successes[week] = 1\n",
    "                return True, attempt_date\n",
    "            else:\n",
    "                return False, attempt_date\n",
    "            \n",
    "    def assignment(self, week):\n",
    "        energy = self.motivation + random.randint(-1,2)\n",
    "        for i in range(0, energy):\n",
    "            attempt(week)\n",
    "            \n",
    "\n",
    "class Course:\n",
    "    \"\"\"Course class\"\"\"\n",
    "\n",
    "    def __init__(self, sections, length):\n",
    "        self.sections = sections\n",
    "        self.length = length\n",
    "        self.students = []\n",
    "        \n",
    "        # Create students\n",
    "        for section in sections:\n",
    "            for i in range(section.get(\"size\")):\n",
    "                name = str(random.randrange(1000000,9999999))\n",
    "                motivation = random.randint(1,3)\n",
    "                self.students.append(\n",
    "                    Student(name, section, motivation, self.length)\n",
    "                )\n",
    "\n",
    "    def run(self, file = True):\n",
    "        \"simulates running a semester of the course\"\n",
    "        submissions = []\n",
    "        for student in self.students:\n",
    "            for week in range(0,self.length):\n",
    "                correct, date = student.attempt(week = week)\n",
    "                submissions.append(\n",
    "                    (student.name,\n",
    "                     student.section.get(\"label\"),\n",
    "                     date.strftime(\"%Y-%m-%d-%H\"),\n",
    "                     correct)\n",
    "                )\n",
    "        return submissions\n",
    "\n",
    "def pick_time(target, hours_offset, hours_spread):\n",
    "        dhours = hours_offset + random.uniform(-hours_spread,hours_spread)\n",
    "        delta = datetime.timedelta(hours=dhours)\n",
    "        return target + delta"
   ]
  },
  {
   "cell_type": "code",
   "execution_count": null,
   "metadata": {},
   "outputs": [],
   "source": [
    "[print(i) for i in range(1,10)]"
   ]
  },
  {
   "cell_type": "code",
   "execution_count": null,
   "metadata": {},
   "outputs": [],
   "source": [
    "[print(i) for i in range(0,1)];"
   ]
  },
  {
   "cell_type": "markdown",
   "metadata": {},
   "source": [
    "## Intended Flow \n",
    "\n",
    "\n",
    "```python\n",
    "course = Course(sections, 16)\n",
    "submissions = course.run()\n",
    "\n",
    "gradebook = grade(submissions)\n",
    "```\n",
    "\n",
    "### `sections`\n",
    "`sections` should be a `list` of `dict`s that are all of the form:\n",
    "```python\n",
    "AD1 = {\n",
    "    \"label\":\"AD1\",\n",
    "    \"size\": 12,\n",
    "    \"start\": \"2019-01-14-12\"\n",
    "}\n",
    "```"
   ]
  },
  {
   "cell_type": "code",
   "execution_count": null,
   "metadata": {},
   "outputs": [],
   "source": [
    "str(random.randrange(1000000,9999999))"
   ]
  },
  {
   "cell_type": "code",
   "execution_count": null,
   "metadata": {},
   "outputs": [],
   "source": [
    "AD1 = {\n",
    "    \"label\":\"AD1\",\n",
    "    \"size\": 3,\n",
    "    \"start\": \"2019-01-14-12\"\n",
    "}\n",
    "\n",
    "AD2 = {\n",
    "    \"label\":\"AD2\",\n",
    "    \"size\": 4,\n",
    "    \"start\": \"2019-01-14-13\"\n",
    "}\n",
    "\n",
    "test_course = Course([AD1, AD2], 3)"
   ]
  },
  {
   "cell_type": "code",
   "execution_count": null,
   "metadata": {},
   "outputs": [],
   "source": [
    "book = test_course.run()"
   ]
  },
  {
   "cell_type": "code",
   "execution_count": null,
   "metadata": {},
   "outputs": [],
   "source": [
    "[print(i) for i in book];"
   ]
  },
  {
   "cell_type": "code",
   "execution_count": null,
   "metadata": {},
   "outputs": [],
   "source": [
    "test"
   ]
  },
  {
   "cell_type": "code",
   "execution_count": null,
   "metadata": {},
   "outputs": [],
   "source": [
    "int(False)"
   ]
  },
  {
   "cell_type": "code",
   "execution_count": null,
   "metadata": {},
   "outputs": [],
   "source": []
  }
 ],
 "metadata": {
  "kernelspec": {
   "display_name": "Python 3",
   "language": "python",
   "name": "python3"
  },
  "language_info": {
   "codemirror_mode": {
    "name": "ipython",
    "version": 3
   },
   "file_extension": ".py",
   "mimetype": "text/x-python",
   "name": "python",
   "nbconvert_exporter": "python",
   "pygments_lexer": "ipython3",
   "version": "3.8.5"
  }
 },
 "nbformat": 4,
 "nbformat_minor": 4
}
