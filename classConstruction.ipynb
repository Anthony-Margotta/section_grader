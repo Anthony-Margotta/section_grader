{
 "cells": [
  {
   "cell_type": "code",
   "execution_count": 1,
   "metadata": {},
   "outputs": [],
   "source": [
    "import random\n",
    "import datetime"
   ]
  },
  {
   "cell_type": "code",
   "execution_count": 13,
   "metadata": {},
   "outputs": [],
   "source": [
    "class Student:\n",
    "    \"\"\"Student class\"\"\"\n",
    "    \n",
    "    def __init__(self, name, section, motivation):\n",
    "        self.name = name\n",
    "        self.section = section\n",
    "        self.motivation = motivation\n",
    "        self.successes = []\n",
    "    \n",
    "    def attempt(week):\n",
    "        effort = random.randrage(10) + self.motivation\n",
    "        if (effort > 10):\n",
    "            # due date - 3 days +- 12hourrange\n",
    "            effort\n",
    "        elif (effort > 5):\n",
    "            # due date - 12hourrange\n",
    "            effort\n",
    "        elif (effort > 2):\n",
    "            # due date + 6hourrange\n",
    "            effort\n",
    "        else:\n",
    "            # due date + 6days +- 24 hourrange\n",
    "            effort\n",
    "            \n",
    "\n",
    "class Course:\n",
    "    \"\"\"Course class\"\"\"\n",
    "\n",
    "    def __init__(self, sections, length):\n",
    "        self.sections = sections\n",
    "        self.length = length\n",
    "        self.students = []\n",
    "        \n",
    "        # Create students\n",
    "        for section in sections:\n",
    "            for i in range(section.get(\"size\")):\n",
    "                name = str(random.randrange(1000000,9999999))\n",
    "                motivation = random.randrange(3)\n",
    "                self.students.append(\n",
    "                    Student(name, section.get(\"label\"), motivation)\n",
    "                )\n",
    "\n",
    "    def run(self, file = True):\n",
    "        \"simulates running a semester of the course\"\n",
    "        # create submission table\n",
    "        # each student makes Course.length attempts on an assignment\n",
    "        # output submission table as file and return its path"
   ]
  },
  {
   "cell_type": "code",
   "execution_count": null,
   "metadata": {},
   "outputs": [],
   "source": [
    "def pick_time(target, attempt):\n",
    "    if (attempt == \"early\"):\n",
    "        hours = random.randint(-12,12)\n",
    "        datetime.timedelta(hours=)"
   ]
  },
  {
   "cell_type": "markdown",
   "metadata": {},
   "source": [
    "## Intended Flow \n",
    "\n",
    "\n",
    "```python\n",
    "course = Course(sections, 16)\n",
    "submissions = course.run()\n",
    "\n",
    "gradebook = grade(submissions)\n",
    "```\n",
    "\n",
    "### `sections`\n",
    "`sections` should be a `list` of `dict`s that are all of the form:\n",
    "```python\n",
    "AD1 = {\n",
    "    \"label\":\"AD1\",\n",
    "    \"size\": 12,\n",
    "    \"start\": \"2019-01-14-12\"\n",
    "}\n",
    "```"
   ]
  },
  {
   "cell_type": "code",
   "execution_count": 19,
   "metadata": {},
   "outputs": [
    {
     "data": {
      "text/plain": [
       "'8140190'"
      ]
     },
     "execution_count": 19,
     "metadata": {},
     "output_type": "execute_result"
    }
   ],
   "source": [
    "str(random.randrange(1000000,9999999))"
   ]
  },
  {
   "cell_type": "code",
   "execution_count": 42,
   "metadata": {},
   "outputs": [],
   "source": [
    "AD1 = {\n",
    "    \"label\":\"AD1\",\n",
    "    \"size\": 3,\n",
    "    \"start\": \"2019-01-14-12\"\n",
    "}\n",
    "\n",
    "AD2 = {\n",
    "    \"label\":\"AD2\",\n",
    "    \"size\": 4,\n",
    "    \"start\": \"2019-01-14-13\"\n",
    "}\n",
    "\n",
    "test_course = Course([AD1, AD2], 3)"
   ]
  },
  {
   "cell_type": "code",
   "execution_count": 45,
   "metadata": {},
   "outputs": [
    {
     "name": "stdout",
     "output_type": "stream",
     "text": [
      "AD1\n",
      "AD1\n",
      "AD1\n",
      "AD2\n",
      "AD2\n",
      "AD2\n",
      "AD2\n"
     ]
    }
   ],
   "source": [
    "[print(s.section) for s in test_course.students];"
   ]
  },
  {
   "cell_type": "code",
   "execution_count": 11,
   "metadata": {},
   "outputs": [
    {
     "ename": "SyntaxError",
     "evalue": "invalid syntax (<ipython-input-11-021d0870144f>, line 1)",
     "output_type": "error",
     "traceback": [
      "\u001b[0;36m  File \u001b[0;32m\"<ipython-input-11-021d0870144f>\"\u001b[0;36m, line \u001b[0;32m1\u001b[0m\n\u001b[0;31m    try (test2):\u001b[0m\n\u001b[0m        ^\u001b[0m\n\u001b[0;31mSyntaxError\u001b[0m\u001b[0;31m:\u001b[0m invalid syntax\n"
     ]
    }
   ],
   "source": [
    "try (test2):\n",
    "except NameError:\n",
    "    print(\"False\")"
   ]
  },
  {
   "cell_type": "code",
   "execution_count": 9,
   "metadata": {},
   "outputs": [
    {
     "ename": "IndexError",
     "evalue": "list index out of range",
     "output_type": "error",
     "traceback": [
      "\u001b[0;31m---------------------------------------------------------------------------\u001b[0m",
      "\u001b[0;31mIndexError\u001b[0m                                Traceback (most recent call last)",
      "\u001b[0;32m<ipython-input-9-4f71ac66559b>\u001b[0m in \u001b[0;36m<module>\u001b[0;34m\u001b[0m\n\u001b[1;32m      1\u001b[0m \u001b[0mtest\u001b[0m \u001b[0;34m=\u001b[0m \u001b[0;34m[\u001b[0m\u001b[0;34m]\u001b[0m\u001b[0;34m\u001b[0m\u001b[0;34m\u001b[0m\u001b[0m\n\u001b[0;32m----> 2\u001b[0;31m \u001b[0mtest\u001b[0m\u001b[0;34m[\u001b[0m\u001b[0;36m2\u001b[0m\u001b[0;34m]\u001b[0m\u001b[0;34m\u001b[0m\u001b[0;34m\u001b[0m\u001b[0m\n\u001b[0m",
      "\u001b[0;31mIndexError\u001b[0m: list index out of range"
     ]
    }
   ],
   "source": [
    "test = []\n",
    "test"
   ]
  },
  {
   "cell_type": "code",
   "execution_count": null,
   "metadata": {},
   "outputs": [],
   "source": []
  }
 ],
 "metadata": {
  "kernelspec": {
   "display_name": "Python 3",
   "language": "python",
   "name": "python3"
  },
  "language_info": {
   "codemirror_mode": {
    "name": "ipython",
    "version": 3
   },
   "file_extension": ".py",
   "mimetype": "text/x-python",
   "name": "python",
   "nbconvert_exporter": "python",
   "pygments_lexer": "ipython3",
   "version": "3.8.3"
  }
 },
 "nbformat": 4,
 "nbformat_minor": 4
}
